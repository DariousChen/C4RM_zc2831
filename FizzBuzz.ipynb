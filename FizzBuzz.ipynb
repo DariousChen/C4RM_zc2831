from os import X_OK
#!/usr/bin/env python3
# -*- coding: utf-8 -*-
"""
Created on Tue Jun 11 21:47:04 2024

@author: tleitch
"""

# Have this code run for any start and finish values

def FizzBuzz(start, finish):
    outlist = []

    for i in range(start, finish+1):

        if i % 3 == 0 and i % 5 == 0:
            outlist.append("fizzbuzz")
        elif i % 3 == 0:
            outlist.append("fizz")
        elif i % 5 == 0:
            outlist.append("buzz")
        else:
            outlist.append(i)
    return(outlist)

start = 1
finish = 15
x = FizzBuzz(start,finish)
print(x)
