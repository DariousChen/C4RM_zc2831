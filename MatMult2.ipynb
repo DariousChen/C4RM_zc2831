{
  "metadata": {
    "kernelspec": {
      "name": "python",
      "display_name": "Python (Pyodide)",
      "language": "python"
    },
    "language_info": {
      "codemirror_mode": {
        "name": "python",
        "version": 3
      },
      "file_extension": ".py",
      "mimetype": "text/x-python",
      "name": "python",
      "nbconvert_exporter": "python",
      "pygments_lexer": "ipython3",
      "version": "3.8"
    }
  },
  "nbformat_minor": 4,
  "nbformat": 4,
  "cells": [
    {
      "cell_type": "code",
      "source": "def MatMult1(vec, mat):\n    answer = []\n    for i in range(3):\n        out = 0\n        for j in range(3):\n            out += + vec[j] * mat[i][j]\n        answer.append(out)\n        \n\n    return(answer)",
      "metadata": {
        "trusted": true
      },
      "outputs": [],
      "execution_count": 49
    },
    {
      "cell_type": "code",
      "source": "vec = (1,2,3)\nmat = [(1,4,7),(2,5,8),(3,6,9)]\n\nx = MatMult1(vec,mat)\nprint(x)",
      "metadata": {
        "trusted": true
      },
      "outputs": [
        {
          "name": "stdout",
          "text": "[30, 36, 42]\n",
          "output_type": "stream"
        }
      ],
      "execution_count": 50
    }
  ]
}