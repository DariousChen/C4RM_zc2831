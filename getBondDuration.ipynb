{
  "metadata": {
    "kernelspec": {
      "name": "python",
      "display_name": "Python (Pyodide)",
      "language": "python"
    },
    "language_info": {
      "codemirror_mode": {
        "name": "python",
        "version": 3
      },
      "file_extension": ".py",
      "mimetype": "text/x-python",
      "name": "python",
      "nbconvert_exporter": "python",
      "pygments_lexer": "ipython3",
      "version": "3.8"
    }
  },
  "nbformat_minor": 4,
  "nbformat": 4,
  "cells": [
    {
      "cell_type": "code",
      "source": "def getBondDuration(y, face, couponRate, m, ppy = 1):\n    bondPrice = 0\n    CF = face * couponRate/ppy\n    CF_list = []\n\n\n    for i in range(1, m + 1):\n            PV_coupon = CF * (1+(y/ppy))**(-i)\n            bondPrice += PV_coupon\n            PVt = PV_coupon * i\n            CF_list.append(PVt)\n\n        \n    PV_face = face * (1+(y/ppy))**(-m)\n    bondPrice += PV_face\n    PV_face_t = PV_face * m\n    CF_list.append(PV_face_t)\n\n    Total_CF = sum(CF_list)\n    Duration = Total_CF / bondPrice\n\n    return(Duration)",
      "metadata": {
        "trusted": true
      },
      "outputs": [],
      "execution_count": 38
    },
    {
      "cell_type": "code",
      "source": "y = 0.03\nface = 2000000\ncouponRate = 0.04\nm = 10\nppy = 1\n\nx = getBondDuration(y, face, couponRate, m)\nprint(x)",
      "metadata": {
        "trusted": true
      },
      "outputs": [
        {
          "name": "stdout",
          "text": "8.508690304459574\n",
          "output_type": "stream"
        }
      ],
      "execution_count": 39
    }
  ]
}