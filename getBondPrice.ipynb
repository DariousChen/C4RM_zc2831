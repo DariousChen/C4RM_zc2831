{
  "metadata": {
    "kernelspec": {
      "name": "python",
      "display_name": "Python (Pyodide)",
      "language": "python"
    },
    "language_info": {
      "codemirror_mode": {
        "name": "python",
        "version": 3
      },
      "file_extension": ".py",
      "mimetype": "text/x-python",
      "name": "python",
      "nbconvert_exporter": "python",
      "pygments_lexer": "ipython3",
      "version": "3.8"
    }
  },
  "nbformat_minor": 4,
  "nbformat": 4,
  "cells": [
    {
      "cell_type": "code",
      "source": "def getBondPrice(y, face, couponRate, m, ppy = 1):\n    \n    couponPayment = face * couponRate/ppy\n    bondPrice = 0\n    period = m * ppy\n\n    if ppy != 1 and ppy != 2:\n        ppy == 1\n\n    for i in range(1, period + 1):\n        bondPrice = bondPrice + couponPayment * (1+(y/ppy))**(-i)\n\n    bondPrice = bondPrice + face * (1+(y/ppy))**(-period)\n    \n    return(bondPrice)",
      "metadata": {
        "trusted": true
      },
      "outputs": [],
      "execution_count": 57
    },
    {
      "cell_type": "code",
      "source": "y = 0.03\nface = 2000000\ncouponRate = 0.04\nm = 10\n\nx = getBondPrice(y,face,couponRate,m)\nprint(x)",
      "metadata": {
        "trusted": true
      },
      "outputs": [
        {
          "name": "stdout",
          "text": "2170604.0567355165\n",
          "output_type": "stream"
        }
      ],
      "execution_count": 59
    }
  ]
}