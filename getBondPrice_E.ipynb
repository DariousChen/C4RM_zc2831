{
  "metadata": {
    "kernelspec": {
      "name": "python",
      "display_name": "Python (Pyodide)",
      "language": "python"
    },
    "language_info": {
      "codemirror_mode": {
        "name": "python",
        "version": 3
      },
      "file_extension": ".py",
      "mimetype": "text/x-python",
      "name": "python",
      "nbconvert_exporter": "python",
      "pygments_lexer": "ipython3",
      "version": "3.8"
    }
  },
  "nbformat_minor": 4,
  "nbformat": 4,
  "cells": [
    {
      "cell_type": "code",
      "source": "def getBondPrice_E(face, couponRate, m, yc):\n    bondPrice = 0\n    C = face * couponRate\n    yc = [0.01, 0.015, 0.02, 0.025, 0.03]\n\n    for i, t in enumerate(yc,1):\n        if i < m:\n            bondPrice = bondPrice + C * (1+t)**-i\n        else:\n            bondPrice = bondPrice + (face + C) * (1+t)**-i\n\n    return(bondPrice)",
      "metadata": {
        "trusted": true
      },
      "outputs": [],
      "execution_count": 23
    },
    {
      "cell_type": "code",
      "source": "yc = [.010,.015,.020,.025,.030]\nface = 2000000\ncouponRate = .04\nm = 5\n\nx = getBondPrice_E(face, couponRate, m, yc)\nprint(x)",
      "metadata": {
        "trusted": true
      },
      "outputs": [
        {
          "name": "stdout",
          "text": "2098948.9705506554\n",
          "output_type": "stream"
        }
      ],
      "execution_count": 24
    }
  ]
}