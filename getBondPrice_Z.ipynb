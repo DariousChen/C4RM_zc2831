{
  "metadata": {
    "kernelspec": {
      "name": "python",
      "display_name": "Python (Pyodide)",
      "language": "python"
    },
    "language_info": {
      "codemirror_mode": {
        "name": "python",
        "version": 3
      },
      "file_extension": ".py",
      "mimetype": "text/x-python",
      "name": "python",
      "nbconvert_exporter": "python",
      "pygments_lexer": "ipython3",
      "version": "3.8"
    }
  },
  "nbformat_minor": 4,
  "nbformat": 4,
  "cells": [
    {
      "cell_type": "code",
      "source": "def getBondPrice_Z(face, couponRate, times, yc):\n    priceBond = []\n    bondPrice = 0\n    couponPayment = face * couponRate\n\n    for i, t in zip(times,yc):\n        if i < max(times):\n            bondPrice = couponPayment * (1+t)**-i\n        else:\n            bondPrice = (face + couponPayment) * (1+t)**-i\n        priceBond.append(bondPrice)\n    totalPrice = sum(priceBond)\n    return priceBond , totalPrice",
      "metadata": {
        "trusted": true
      },
      "outputs": [],
      "execution_count": 129
    },
    {
      "cell_type": "code",
      "source": "yc = [.010,.015,.020,.025,.030]\ntimes=[1,1.5,3,4,7]\nface = 2000000\ncouponRate = .04\n\nx = getBondPrice_Z(face, couponRate, times, yc)\nprint(x)",
      "metadata": {
        "trusted": true
      },
      "outputs": [
        {
          "name": "stdout",
          "text": "([79207.92079207921, 78233.16917997481, 75385.78676376356, 72476.05158398041, 1691230.3435941753], 1996533.2719139734)\n",
          "output_type": "stream"
        }
      ],
      "execution_count": 130
    },
    {
      "cell_type": "code",
      "source": "yc = [0.01, 0.015, 0.02, 0.025, 0.03]\ntimes = [1, 1.5, 3, 4, 7]\nzipped  = list(zip(yc,times))\n\nprint(zipped)",
      "metadata": {
        "trusted": true
      },
      "outputs": [
        {
          "name": "stdout",
          "text": "[(0.01, 1), (0.015, 1.5), (0.02, 3), (0.025, 4), (0.03, 7)]\n",
          "output_type": "stream"
        }
      ],
      "execution_count": 65
    }
  ]
}